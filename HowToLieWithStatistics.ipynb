{
 "cells": [
  {
   "cell_type": "markdown",
   "id": "2ea92d22-2609-4f23-9424-949682cfee4d",
   "metadata": {},
   "source": [
    "# <center> İstatistik İle Nasıl Yalan Söylenir? </center>"
   ]
  },
  {
   "cell_type": "markdown",
   "id": "9a164855-ce6b-42a8-a604-6e50f33b4d84",
   "metadata": {},
   "source": [
    "Yazımız başlığını orijinal adı \"<b><i>How to Lie with Statistics</i></b>\" olan kitaptan alıyor. <b><i>Darrel Huff</i></b> tarafından 1954 yılında yayımlanmış olan kitap, yazıldığı dönemde popüler olmuş ve 60'lardan sonra üniversitelerde, kolejlerde istatistiğe giriş kitabı olarak standart haline gelmiştir. Popüperliğini uzun yıllar sürdürerek 20. yüzyılın en çok okunan istatistik kitabı olmayı başarmıştır."
   ]
  },
  {
   "cell_type": "markdown",
   "id": "bdbbaff1-2db5-4582-b33a-d5ca73c91a46",
   "metadata": {},
   "source": [
    "Bir İstatistik ders kitabı haline gelmiş olmasına rağmen İstatistik ile Nasıl Yalan Söylenir'in teknik bir kitap olduğu söylenemez. Zaten Darrel Huff da bir istatistikçi değil; bir yazar ve gazeteci. Ancak bir ders kitabı haline gelmesi de boşuna değil. Huff'ın gazetecilikten gelen bir yazar olmasının da katkısıyla olsa gerek, istatistiğin nasıl yanıltıcı etkiler bırakabileceği iyi seçilmiş örneklerle anlatılmış. Bu örnekler ise çoğunlukla reklamlar ve gazete haberlerinden/ilanlarından seçilmiş. Kitap 10 bölümden oluşuyor; sırasıyla: <b>Saptırımlı Örnekleme</b>, <b>Doğru Seçilmiş Ortalama</b>, <b>Kaybolan Küçük Sayılar</b>, <b>Hiç Uğruna Kuru Gürültü</b>, <b>Hokus Pokus Grafikleri</b>, <b>Tek Boyutlu Resim</b>, <b>Eğreti Rakamlar</b>, <b>Post-Hoc Yine Doludizgin</b>, <b>İstatistikbazlık</b>, <b>Bir İstatistiği Sorgulamak</b>."
   ]
  },
  {
   "cell_type": "markdown",
   "id": "909d1445-cd7c-4137-ad4a-be18c3bd1191",
   "metadata": {},
   "source": [
    "İlk bölüm rastgele örneklem almanın ve bunu, sonuçları istediğimiz gibi göstermek için nasıl kullanılabileceğimize odaklanıyor. Doğru Seçilmiş Ortalama bölümü, ortalamanın türlerinden, medyan, mod gibi kavramların ne ifade ettiğinden ve ortalama ifadesinin bizi nasıl yanıltabileceğinden bahsediyor. Üçüncü bölüm, bilgi verilirken gizlenen sayılardan bahsediyor ve sayıların ifade biçimlerinin, belki de hiçbir anlam ifade etmeyen sayıların nasıl anlamlıymış gibi sunulduğunu gösteriyor. Sonraki bölüm, ortalamalara dayanarak çıkarımda bulunurken bu ortalamaya dair bir aralık vermenin gerekliliğinden bahsediyor. Hokus Pokus Grafikleri ve Tek Boyutlu Resim bölümleri, grafiklerin nasıl kesilip biçilerek ya da simgelerle ifade edilerek değiştirilebileceğine odaklanıyor. Eğreti Rakamlar bölümü, alakasız kıyaslamalar ile bambaşka sonuçlar elde edilebileceğini gösteriyor. Sekizinci bölüm olan Post-Hoc Yine Doludizgin, korelasyonun neden-sonuç ilişkisi içermek zorunda olmadığını ve bu bağlamda gözardı edilen şeyleri anlatıyor. İstatistikbazlık bölümü gelir, gider, zam ve indirim konusundaki hesaplamalarda dönen istatistiksel dalavereleri konu ediniyor. Son bölümde ise bir istatistiki bilgi okurken nasıl yaklaşmamız gerektiğine dair ufak ipuçlarına değiniyor."
   ]
  },
  {
   "cell_type": "markdown",
   "id": "0b090e14-e410-4c59-b799-ad938903824a",
   "metadata": {},
   "source": [
    "Kitabın şu an bulunabilen baskısı 2019'un ilk ayında Urzeni Yayınevi tarafından yayımlanmış. Kitabı her ne kadar okumanızı tavsiye etsem de bu baskının birçok yazım hatası ve okunmayan grafik içermesinden ötürü, pek özenli bir baskı olduğunu söyleyemeyeceğim. Daha önce Sarmal Yayınları tarafından iki farklı baskısı yapılmış ancak bunları inceleme fırsatım olmadı. Denk gelirse bu baskısını da inceleyin ve mümkünse orijinal dilindeki düzgün bir baskısından okumaya çalışın. İstatistik bilincini ve okuryazarlığı arttırması yönüyle kitabı hemen herkes okuyabilir. Okunması kolay, az sayfalı, bir günde bitirilebilecek bir kitap. Özellikle lise çağındaki ve hem sosyal bilimler hem de fen bilimleri alanında üniversiteye yeni başlamış öğrenciler için faydalı bir istatistiğe giriş kitabı olacaktır. Yazının geri kalanında kitaptaki birkaç örneğin görselleştirilmiş hallerini kodlarıyla birlikte bulabileceksiniz."
   ]
  },
  {
   "cell_type": "markdown",
   "id": "7db7833d-e6c4-408d-92bf-d10d49275581",
   "metadata": {},
   "source": [
    "- Huff, emlakçıların taktiklerinden bir örnek vermiş. İnsanlar ev satın alacaklarında ya da kiralayacaklarında evin hangi semtte olduğuna önem verirler. Semtin sosyokültürel seviyesi ile gelir seviyesi de korelasyon içerisindedir. Bu nedenle emlakçılar, o bölgede yaşan insanların gelir seviyesini bir gösterge olarak sunarak evi pazarlar. Huff'ın örneğinde emlakçı bölgedeki ortalama gelirin 10000 dolar olduğunu söylüyor. Söylediği müşteri doğal olarak bölgede yaşayan insanların çoğunun 10000 dolarlık gelir seviyesinde olduğunu düşünüyor. Ancak bu bir aldatmaca. Bölgede yaşayan ve kendi mülklerine çekilmiş olan birkaç milyonerin gelir seviyesini ortalamada çok yukarı taşıması nedeniyle, aslında bölgede yaşayan insanların çoğu 3000 dolar gelir seviyesine sahip. Peki bu durumda ne yapmalıyız? Gerçekten fikir vermesi için emlakçının mod bilgisini vermesi gerekiyordu. Daha da doğrusu insanların yüzde kaçının bu ortalamanın altında ve üstünde olduğunu söylemesi gerekiyordu."
   ]
  },
  {
   "cell_type": "code",
   "execution_count": 1,
   "id": "2f2c004c-ae06-40a3-8fc4-e0dc12ed30e1",
   "metadata": {},
   "outputs": [],
   "source": [
    "import numpy as np\n",
    "import pandas as pd\n",
    "import matplotlib.pyplot as plt\n",
    "pd.set_option('display.float_format', lambda x: '%.2f' % x)"
   ]
  },
  {
   "cell_type": "code",
   "execution_count": 2,
   "id": "537cbeb7-ee32-4c4c-875c-e25feaeb2cd4",
   "metadata": {},
   "outputs": [],
   "source": [
    "def generate(minval, maxval):\n",
    "    \"\"\" İstediğimiz aralıkla değerler üretebilmek için kullandığımız fonksiyon. \"\"\"\n",
    "    assert minval < maxval, \"Minimum değer maximumdan büyük olamaz\"\n",
    "    \n",
    "    mu = (minval + maxval) / 2 #ortalama\n",
    "    std = (abs(minval) + abs(maxval)) / 2 #standart sapma\n",
    "    val = np.random.normal(mu, std, 1)\n",
    "    \n",
    "    while val > maxval or minval > val:\n",
    "        val = np.random.normal(mu, std, 1)\n",
    "        \n",
    "    return val"
   ]
  },
  {
   "cell_type": "code",
   "execution_count": 3,
   "id": "27575d32-9753-45ba-a715-458d82a19805",
   "metadata": {},
   "outputs": [
    {
     "data": {
      "text/html": [
       "<div>\n",
       "<style scoped>\n",
       "    .dataframe tbody tr th:only-of-type {\n",
       "        vertical-align: middle;\n",
       "    }\n",
       "\n",
       "    .dataframe tbody tr th {\n",
       "        vertical-align: top;\n",
       "    }\n",
       "\n",
       "    .dataframe thead th {\n",
       "        text-align: right;\n",
       "    }\n",
       "</style>\n",
       "<table border=\"1\" class=\"dataframe\">\n",
       "  <thead>\n",
       "    <tr style=\"text-align: right;\">\n",
       "      <th></th>\n",
       "      <th>count</th>\n",
       "      <th>mean</th>\n",
       "      <th>std</th>\n",
       "      <th>min</th>\n",
       "      <th>25%</th>\n",
       "      <th>50%</th>\n",
       "      <th>75%</th>\n",
       "      <th>max</th>\n",
       "    </tr>\n",
       "  </thead>\n",
       "  <tbody>\n",
       "    <tr>\n",
       "      <th>Nüfus</th>\n",
       "      <td>10000.00</td>\n",
       "      <td>11244.13</td>\n",
       "      <td>156665.18</td>\n",
       "      <td>2002.46</td>\n",
       "      <td>4661.30</td>\n",
       "      <td>6971.03</td>\n",
       "      <td>9329.94</td>\n",
       "      <td>9170703.04</td>\n",
       "    </tr>\n",
       "  </tbody>\n",
       "</table>\n",
       "</div>"
      ],
      "text/plain": [
       "         count     mean       std     min     25%     50%     75%        max\n",
       "Nüfus 10000.00 11244.13 156665.18 2002.46 4661.30 6971.03 9329.94 9170703.04"
      ]
     },
     "execution_count": 3,
     "metadata": {},
     "output_type": "execute_result"
    }
   ],
   "source": [
    "S1 = np.array([float(generate(minval=2000, maxval=12000)) for z in range(9990)]) #Gelirleri 0 ile 12000 dolar arasında değişen 9990 sıradan mahalleli\n",
    "S2 = np.array([float(generate(minval=1000000, maxval=10000000)) for z in range(10)]) #Gelirleri 1 milyon ile 10 milyon dolar arasında değişen milyoner mahalleli\n",
    "S = pd.DataFrame(np.append(S1,S2),columns = [\"Nüfus\"]) #10000 kişinin tümü\n",
    "S.describe().T"
   ]
  },
  {
   "cell_type": "code",
   "execution_count": 4,
   "id": "89271f4b-d211-4349-b3c8-0f740ac019f1",
   "metadata": {},
   "outputs": [
    {
     "data": {
      "text/plain": [
       "672"
      ]
     },
     "execution_count": 4,
     "metadata": {},
     "output_type": "execute_result"
    }
   ],
   "source": [
    "S = S[\"Nüfus\"] #Dataframe'den Series tipine çevirdik, fonksiyonları kullanabilmek için\n",
    "S[S.mean() < S].count()"
   ]
  },
  {
   "cell_type": "code",
   "execution_count": 5,
   "id": "321a9d06-e70d-43c2-b590-015d2237ba23",
   "metadata": {},
   "outputs": [
    {
     "data": {
      "text/plain": [
       "93.28"
      ]
     },
     "execution_count": 5,
     "metadata": {},
     "output_type": "execute_result"
    }
   ],
   "source": [
    "((S[S.mean() > S].count()) / S.count()) * 100"
   ]
  },
  {
   "cell_type": "markdown",
   "id": "d67acb7b-5c18-4801-b3b6-6f4d7cbb610d",
   "metadata": {},
   "source": [
    "Yukarıda Huff'ın anlattığına yakın olması için bir örnek kurguladık. Bu kurguda 10 bin kişilik bir mahallede, gelirleri 2 bin ile 12 bin dolar arasında değişen 9990 kişi yaşarken; gelirleri 1 milyon ile 10 milyon dolar arasında değişen 10 milyoner oturuyor. <i>Emlakçı bize ortalama gelirin 10-12 bin dolar olduğunu söylese de görüyoruz ki aslında bu topluluğun modu 7000 doların altında ve mahalle sakinlerinin yalnızca 672'si yani %6.72'si bize söylenen ortalamanın üstünde gelire sahip.</i> %93.28 bize bu ortalamanın üstünde yaşayan insanların yüzdesini verirken [3] ile işaretli tabloda 50%'nin altında yazan değer bize modu gösteriyor."
   ]
  },
  {
   "cell_type": "markdown",
   "id": "3d1791d5-3ee9-45f8-a494-7fc1ac0e2693",
   "metadata": {},
   "source": [
    "- Anket yapmak veri toplamanın en eski ve geleneksel yöntemlerinden biri. Ancak insanların doğruyu söylememesinden tutun, hedeflenen bireylerin es geçilmesi ihtimaline dek birçok problemi de içinde barındırıyor. Ayrıca artniyetliyseniz size anket yaptıranları memnun edecek şekilde sonuç alana dek örneklem almaya devam edebilirsiniz. Tahminleriniz yanlış çıktığında ise elinizdeki verileri gösterip kendinizi kolaylıkla sorumluluktan muaf tutabilirsiniz. Bir önceki örnekte oluşturduğumuz, gelir otalaması 11244 olan topluluk üzerindeki hedefimiz ortalama gelirin 18 binin üzerinde olduğunu göstermek ise işimiz kolay. 500 örneklem büyüklüğünde 5 küme oluşturursak sonuçlar aşağıdaki gibi olabilir, 4 numaralı listeyi seçeriz ve işimiz biter."
   ]
  },
  {
   "cell_type": "code",
   "execution_count": 6,
   "id": "0201d13b-67f4-481c-9886-694b4614379d",
   "metadata": {},
   "outputs": [],
   "source": [
    "S_List = [np.random.choice(S, size=[500], replace=False) for i in range(10)] #500'er kişilik 5 örneklem aldık."
   ]
  },
  {
   "cell_type": "code",
   "execution_count": 7,
   "id": "83c2c55d-d6e4-463a-bb3e-9524105fafcf",
   "metadata": {
    "tags": []
   },
   "outputs": [
    {
     "data": {
      "text/html": [
       "<div>\n",
       "<style scoped>\n",
       "    .dataframe tbody tr th:only-of-type {\n",
       "        vertical-align: middle;\n",
       "    }\n",
       "\n",
       "    .dataframe tbody tr th {\n",
       "        vertical-align: top;\n",
       "    }\n",
       "\n",
       "    .dataframe thead th {\n",
       "        text-align: right;\n",
       "    }\n",
       "</style>\n",
       "<table border=\"1\" class=\"dataframe\">\n",
       "  <thead>\n",
       "    <tr style=\"text-align: right;\">\n",
       "      <th></th>\n",
       "      <th>count</th>\n",
       "      <th>mean</th>\n",
       "      <th>std</th>\n",
       "      <th>min</th>\n",
       "      <th>25%</th>\n",
       "      <th>50%</th>\n",
       "      <th>75%</th>\n",
       "      <th>max</th>\n",
       "    </tr>\n",
       "  </thead>\n",
       "  <tbody>\n",
       "    <tr>\n",
       "      <th>1 Numaralı Liste</th>\n",
       "      <td>500.00</td>\n",
       "      <td>7145.80</td>\n",
       "      <td>2846.64</td>\n",
       "      <td>2033.97</td>\n",
       "      <td>4552.89</td>\n",
       "      <td>7370.94</td>\n",
       "      <td>9538.72</td>\n",
       "      <td>11996.94</td>\n",
       "    </tr>\n",
       "  </tbody>\n",
       "</table>\n",
       "</div>"
      ],
      "text/plain": [
       "                  count    mean     std     min     25%     50%     75%  \\\n",
       "1 Numaralı Liste 500.00 7145.80 2846.64 2033.97 4552.89 7370.94 9538.72   \n",
       "\n",
       "                      max  \n",
       "1 Numaralı Liste 11996.94  "
      ]
     },
     "metadata": {},
     "output_type": "display_data"
    },
    {
     "data": {
      "text/html": [
       "<div>\n",
       "<style scoped>\n",
       "    .dataframe tbody tr th:only-of-type {\n",
       "        vertical-align: middle;\n",
       "    }\n",
       "\n",
       "    .dataframe tbody tr th {\n",
       "        vertical-align: top;\n",
       "    }\n",
       "\n",
       "    .dataframe thead th {\n",
       "        text-align: right;\n",
       "    }\n",
       "</style>\n",
       "<table border=\"1\" class=\"dataframe\">\n",
       "  <thead>\n",
       "    <tr style=\"text-align: right;\">\n",
       "      <th></th>\n",
       "      <th>count</th>\n",
       "      <th>mean</th>\n",
       "      <th>std</th>\n",
       "      <th>min</th>\n",
       "      <th>25%</th>\n",
       "      <th>50%</th>\n",
       "      <th>75%</th>\n",
       "      <th>max</th>\n",
       "    </tr>\n",
       "  </thead>\n",
       "  <tbody>\n",
       "    <tr>\n",
       "      <th>2 Numaralı Liste</th>\n",
       "      <td>500.00</td>\n",
       "      <td>7229.08</td>\n",
       "      <td>2772.69</td>\n",
       "      <td>2002.46</td>\n",
       "      <td>5060.79</td>\n",
       "      <td>7394.50</td>\n",
       "      <td>9532.35</td>\n",
       "      <td>11985.11</td>\n",
       "    </tr>\n",
       "  </tbody>\n",
       "</table>\n",
       "</div>"
      ],
      "text/plain": [
       "                  count    mean     std     min     25%     50%     75%  \\\n",
       "2 Numaralı Liste 500.00 7229.08 2772.69 2002.46 5060.79 7394.50 9532.35   \n",
       "\n",
       "                      max  \n",
       "2 Numaralı Liste 11985.11  "
      ]
     },
     "metadata": {},
     "output_type": "display_data"
    },
    {
     "data": {
      "text/html": [
       "<div>\n",
       "<style scoped>\n",
       "    .dataframe tbody tr th:only-of-type {\n",
       "        vertical-align: middle;\n",
       "    }\n",
       "\n",
       "    .dataframe tbody tr th {\n",
       "        vertical-align: top;\n",
       "    }\n",
       "\n",
       "    .dataframe thead th {\n",
       "        text-align: right;\n",
       "    }\n",
       "</style>\n",
       "<table border=\"1\" class=\"dataframe\">\n",
       "  <thead>\n",
       "    <tr style=\"text-align: right;\">\n",
       "      <th></th>\n",
       "      <th>count</th>\n",
       "      <th>mean</th>\n",
       "      <th>std</th>\n",
       "      <th>min</th>\n",
       "      <th>25%</th>\n",
       "      <th>50%</th>\n",
       "      <th>75%</th>\n",
       "      <th>max</th>\n",
       "    </tr>\n",
       "  </thead>\n",
       "  <tbody>\n",
       "    <tr>\n",
       "      <th>3 Numaralı Liste</th>\n",
       "      <td>500.00</td>\n",
       "      <td>17272.19</td>\n",
       "      <td>229339.28</td>\n",
       "      <td>2002.81</td>\n",
       "      <td>4653.77</td>\n",
       "      <td>7034.64</td>\n",
       "      <td>9263.15</td>\n",
       "      <td>5134807.50</td>\n",
       "    </tr>\n",
       "  </tbody>\n",
       "</table>\n",
       "</div>"
      ],
      "text/plain": [
       "                  count     mean       std     min     25%     50%     75%  \\\n",
       "3 Numaralı Liste 500.00 17272.19 229339.28 2002.81 4653.77 7034.64 9263.15   \n",
       "\n",
       "                        max  \n",
       "3 Numaralı Liste 5134807.50  "
      ]
     },
     "metadata": {},
     "output_type": "display_data"
    },
    {
     "data": {
      "text/html": [
       "<div>\n",
       "<style scoped>\n",
       "    .dataframe tbody tr th:only-of-type {\n",
       "        vertical-align: middle;\n",
       "    }\n",
       "\n",
       "    .dataframe tbody tr th {\n",
       "        vertical-align: top;\n",
       "    }\n",
       "\n",
       "    .dataframe thead th {\n",
       "        text-align: right;\n",
       "    }\n",
       "</style>\n",
       "<table border=\"1\" class=\"dataframe\">\n",
       "  <thead>\n",
       "    <tr style=\"text-align: right;\">\n",
       "      <th></th>\n",
       "      <th>count</th>\n",
       "      <th>mean</th>\n",
       "      <th>std</th>\n",
       "      <th>min</th>\n",
       "      <th>25%</th>\n",
       "      <th>50%</th>\n",
       "      <th>75%</th>\n",
       "      <th>max</th>\n",
       "    </tr>\n",
       "  </thead>\n",
       "  <tbody>\n",
       "    <tr>\n",
       "      <th>4 Numaralı Liste</th>\n",
       "      <td>500.00</td>\n",
       "      <td>18531.01</td>\n",
       "      <td>165868.49</td>\n",
       "      <td>2008.61</td>\n",
       "      <td>4736.61</td>\n",
       "      <td>6667.53</td>\n",
       "      <td>9303.30</td>\n",
       "      <td>3239196.85</td>\n",
       "    </tr>\n",
       "  </tbody>\n",
       "</table>\n",
       "</div>"
      ],
      "text/plain": [
       "                  count     mean       std     min     25%     50%     75%  \\\n",
       "4 Numaralı Liste 500.00 18531.01 165868.49 2008.61 4736.61 6667.53 9303.30   \n",
       "\n",
       "                        max  \n",
       "4 Numaralı Liste 3239196.85  "
      ]
     },
     "metadata": {},
     "output_type": "display_data"
    },
    {
     "data": {
      "text/html": [
       "<div>\n",
       "<style scoped>\n",
       "    .dataframe tbody tr th:only-of-type {\n",
       "        vertical-align: middle;\n",
       "    }\n",
       "\n",
       "    .dataframe tbody tr th {\n",
       "        vertical-align: top;\n",
       "    }\n",
       "\n",
       "    .dataframe thead th {\n",
       "        text-align: right;\n",
       "    }\n",
       "</style>\n",
       "<table border=\"1\" class=\"dataframe\">\n",
       "  <thead>\n",
       "    <tr style=\"text-align: right;\">\n",
       "      <th></th>\n",
       "      <th>count</th>\n",
       "      <th>mean</th>\n",
       "      <th>std</th>\n",
       "      <th>min</th>\n",
       "      <th>25%</th>\n",
       "      <th>50%</th>\n",
       "      <th>75%</th>\n",
       "      <th>max</th>\n",
       "    </tr>\n",
       "  </thead>\n",
       "  <tbody>\n",
       "    <tr>\n",
       "      <th>5 Numaralı Liste</th>\n",
       "      <td>500.00</td>\n",
       "      <td>6816.22</td>\n",
       "      <td>2803.09</td>\n",
       "      <td>2005.98</td>\n",
       "      <td>4470.23</td>\n",
       "      <td>6784.12</td>\n",
       "      <td>9033.55</td>\n",
       "      <td>11951.80</td>\n",
       "    </tr>\n",
       "  </tbody>\n",
       "</table>\n",
       "</div>"
      ],
      "text/plain": [
       "                  count    mean     std     min     25%     50%     75%  \\\n",
       "5 Numaralı Liste 500.00 6816.22 2803.09 2005.98 4470.23 6784.12 9033.55   \n",
       "\n",
       "                      max  \n",
       "5 Numaralı Liste 11951.80  "
      ]
     },
     "metadata": {},
     "output_type": "display_data"
    }
   ],
   "source": [
    "for liste,i in zip(S_List,range(1,6)):\n",
    "    display(pd.DataFrame(liste, columns=[str(i) + \" Numaralı Liste\"]).describe().T)"
   ]
  },
  {
   "cell_type": "markdown",
   "id": "b6fb0506-cffb-4879-8936-f173628edd12",
   "metadata": {},
   "source": [
    "- Şirketler bilançolarını gösterirken, grafiklerle oynama yoluna sıklıkla giderler. Bunu hem çalışanlarına iyi maaş verdiklerini göstermek, elde ettikleri karları çalışanlarıyla paylaştıklarına ikna etmek için hem de yatırımcılara daha elverişli gözükmek için yapabilirler. Şirketlerin açıkladıkları veriler gerçekten başarılı olduklarını gösteriyor olsa bile, grafiklerde uygulanan bazı taktiklerin yanıltmaya yönelik olduğu gerçeği değişmiyor. Aşağıda bir şirketin 5 yıllık süreçte cirosunu ne kadar arttırdığını, verileri değiştirmeden farklı gösterimlerle görselleştirdik."
   ]
  },
  {
   "cell_type": "code",
   "execution_count": 8,
   "id": "21140d72-a0d8-47bf-a703-ca22f7cbe5a8",
   "metadata": {},
   "outputs": [
    {
     "data": {
      "image/png": "[encoded data removed]",
      "text/plain": [
       "<Figure size 1440x360 with 2 Axes>"
      ]
     },
     "metadata": {
      "needs_background": "light"
     },
     "output_type": "display_data"
    }
   ],
   "source": [
    "Ciro = [1000,1040,1060,1115,1175,1200]\n",
    "Yıllar = list(range(2015,2021))\n",
    "\n",
    "fig, axes = plt.subplots(nrows=1, ncols=2, figsize=(20, 5))\n",
    "\n",
    "axes[0].plot(Yıllar, Ciro)\n",
    "axes[0].set_ylim([0, 1200])\n",
    "\n",
    "axes[1].plot(Yıllar, Ciro)\n",
    "axes[1].set_ylim([1000, 1200])\n",
    "\n",
    "fig.tight_layout()"
   ]
  }
 ],
 "metadata": {
  "kernelspec": {
   "display_name": "Python 3",
   "language": "python",
   "name": "python3"
  },
  "language_info": {
   "codemirror_mode": {
    "name": "ipython",
    "version": 3
   },
   "file_extension": ".py",
   "mimetype": "text/x-python",
   "name": "python",
   "nbconvert_exporter": "python",
   "pygments_lexer": "ipython3",
   "version": "3.8.8"
  }
 },
 "nbformat": 4,
 "nbformat_minor": 5
}
